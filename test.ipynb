{
 "cells": [
  {
   "cell_type": "markdown",
   "id": "6b0856a7-4da9-47d6-b754-edb8d8fe1a75",
   "metadata": {},
   "source": [
    "# Your project\n",
    "here I will show you how you have to do your work"
   ]
  },
  {
   "cell_type": "code",
   "execution_count": 10,
   "id": "61d7c820-552a-4b60-8179-d91ee2eed233",
   "metadata": {},
   "outputs": [],
   "source": [
    "import math"
   ]
  },
  {
   "cell_type": "code",
   "execution_count": 11,
   "id": "887fedeb-0893-440c-97bb-bdef1daa5a23",
   "metadata": {},
   "outputs": [],
   "source": [
    "# a = 'jadi'\n",
    "# b = 3.14\n",
    "# ---------\n",
    "def jam(a, b):\n",
    "    return a+b"
   ]
  },
  {
   "cell_type": "markdown",
   "id": "cf7a3f5f-3d48-4351-814f-d408a6d64288",
   "metadata": {},
   "source": [
    "### Now lets do the work"
   ]
  },
  {
   "cell_type": "code",
   "execution_count": 13,
   "id": "08864340-2ca8-4678-a1e2-f968f5f782ff",
   "metadata": {},
   "outputs": [
    {
     "data": {
      "text/plain": [
       "8"
      ]
     },
     "execution_count": 13,
     "metadata": {},
     "output_type": "execute_result"
    }
   ],
   "source": [
    "# print(b)\n",
    "# ---------\n",
    "jam(4, 4)"
   ]
  },
  {
   "cell_type": "markdown",
   "id": "b5f83775-933e-4da5-b947-4ee0735a0f1d",
   "metadata": {
    "jp-MarkdownHeadingCollapsed": true
   },
   "source": [
    "# lets compute\n",
    "here we will compute the result based on the formula\n",
    "- point 1\n",
    "- point 2"
   ]
  }
 ],
 "metadata": {
  "kernelspec": {
   "display_name": "Python 3 (ipykernel)",
   "language": "python",
   "name": "python3"
  },
  "language_info": {
   "codemirror_mode": {
    "name": "ipython",
    "version": 3
   },
   "file_extension": ".py",
   "mimetype": "text/x-python",
   "name": "python",
   "nbconvert_exporter": "python",
   "pygments_lexer": "ipython3",
   "version": "3.12.1"
  }
 },
 "nbformat": 4,
 "nbformat_minor": 5
}
