{
 "cells": [
  {
   "cell_type": "markdown",
   "id": "2d5e2b10-45c4-4642-870d-d6e06031a15a",
   "metadata": {},
   "source": [
    "# pandas"
   ]
  },
  {
   "cell_type": "markdown",
   "id": "82ddb204-94a0-4335-8679-77a50ed0b7a9",
   "metadata": {},
   "source": [
    "Pandas is a software library written for the Python programming language for data manipulation and analysis.\n",
    "\n",
    "https://www.google.com/"
   ]
  },
  {
   "cell_type": "code",
   "execution_count": 1,
   "id": "e7e6ab19-be2f-4d9e-a096-9055eea6ef62",
   "metadata": {},
   "outputs": [],
   "source": [
    "import pandas as pd\n",
    "import numpy as np"
   ]
  },
  {
   "cell_type": "code",
   "execution_count": 2,
   "id": "44f4b09b-bd66-4fab-8850-c0601cad325e",
   "metadata": {},
   "outputs": [
    {
     "data": {
      "text/plain": [
       "0       1\n",
       "1       2\n",
       "2       3\n",
       "3    jadi\n",
       "4       0\n",
       "5     NaN\n",
       "6      -1\n",
       "dtype: object"
      ]
     },
     "execution_count": 2,
     "metadata": {},
     "output_type": "execute_result"
    }
   ],
   "source": [
    "pd.Series([1, 2, 3, 'jadi', 0, np.nan, -1])"
   ]
  },
  {
   "cell_type": "code",
   "execution_count": 3,
   "id": "0fd6b02d-df17-473e-bb85-7b1bb180d16d",
   "metadata": {},
   "outputs": [
    {
     "data": {
      "text/plain": [
       "DatetimeIndex(['2024-05-28', '2024-05-29', '2024-05-30', '2024-05-31',\n",
       "               '2024-06-01', '2024-06-02'],\n",
       "              dtype='datetime64[ns]', freq='D')"
      ]
     },
     "execution_count": 3,
     "metadata": {},
     "output_type": "execute_result"
    }
   ],
   "source": [
    "dates = pd.date_range(\"20240528\", periods=6)\n",
    "dates"
   ]
  },
  {
   "cell_type": "code",
   "execution_count": 4,
   "id": "a7e7b01a-31cf-4242-9f19-7583e112a182",
   "metadata": {},
   "outputs": [
    {
     "data": {
      "text/plain": [
       "array([[ 0.26413545, -0.18746816, -0.48893207, -1.82331068],\n",
       "       [-0.46691233, -0.67631135, -2.18293541, -0.97667131],\n",
       "       [ 1.04272854, -0.48528194,  0.91240836, -0.46263717],\n",
       "       [-0.23734464, -0.13421407, -0.30186073,  0.60862594],\n",
       "       [-0.93728854,  0.93567076, -0.80714004, -1.672504  ],\n",
       "       [-1.59837814, -0.15043481, -0.63762974,  0.55326559]])"
      ]
     },
     "execution_count": 4,
     "metadata": {},
     "output_type": "execute_result"
    }
   ],
   "source": [
    "# --- Sine random ---\n",
    "np.random.randn(6, 4)"
   ]
  },
  {
   "cell_type": "code",
   "execution_count": 5,
   "id": "17967aef-d0f5-4608-9d68-e7c76ef3d9ef",
   "metadata": {},
   "outputs": [
    {
     "data": {
      "text/html": [
       "<div>\n",
       "<style scoped>\n",
       "    .dataframe tbody tr th:only-of-type {\n",
       "        vertical-align: middle;\n",
       "    }\n",
       "\n",
       "    .dataframe tbody tr th {\n",
       "        vertical-align: top;\n",
       "    }\n",
       "\n",
       "    .dataframe thead th {\n",
       "        text-align: right;\n",
       "    }\n",
       "</style>\n",
       "<table border=\"1\" class=\"dataframe\">\n",
       "  <thead>\n",
       "    <tr style=\"text-align: right;\">\n",
       "      <th></th>\n",
       "      <th>0</th>\n",
       "      <th>1</th>\n",
       "      <th>2</th>\n",
       "      <th>3</th>\n",
       "    </tr>\n",
       "  </thead>\n",
       "  <tbody>\n",
       "    <tr>\n",
       "      <th>2024-05-28</th>\n",
       "      <td>-0.436222</td>\n",
       "      <td>0.364425</td>\n",
       "      <td>1.061908</td>\n",
       "      <td>0.175973</td>\n",
       "    </tr>\n",
       "    <tr>\n",
       "      <th>2024-05-29</th>\n",
       "      <td>-1.074441</td>\n",
       "      <td>-0.765604</td>\n",
       "      <td>-0.215714</td>\n",
       "      <td>0.202384</td>\n",
       "    </tr>\n",
       "    <tr>\n",
       "      <th>2024-05-30</th>\n",
       "      <td>0.691909</td>\n",
       "      <td>-0.770530</td>\n",
       "      <td>0.231421</td>\n",
       "      <td>0.787017</td>\n",
       "    </tr>\n",
       "    <tr>\n",
       "      <th>2024-05-31</th>\n",
       "      <td>1.294590</td>\n",
       "      <td>1.567899</td>\n",
       "      <td>0.094478</td>\n",
       "      <td>1.146128</td>\n",
       "    </tr>\n",
       "    <tr>\n",
       "      <th>2024-06-01</th>\n",
       "      <td>0.912546</td>\n",
       "      <td>-0.242346</td>\n",
       "      <td>-0.017262</td>\n",
       "      <td>1.181074</td>\n",
       "    </tr>\n",
       "    <tr>\n",
       "      <th>2024-06-02</th>\n",
       "      <td>-0.732861</td>\n",
       "      <td>-1.018559</td>\n",
       "      <td>0.319088</td>\n",
       "      <td>-1.068321</td>\n",
       "    </tr>\n",
       "  </tbody>\n",
       "</table>\n",
       "</div>"
      ],
      "text/plain": [
       "                   0         1         2         3\n",
       "2024-05-28 -0.436222  0.364425  1.061908  0.175973\n",
       "2024-05-29 -1.074441 -0.765604 -0.215714  0.202384\n",
       "2024-05-30  0.691909 -0.770530  0.231421  0.787017\n",
       "2024-05-31  1.294590  1.567899  0.094478  1.146128\n",
       "2024-06-01  0.912546 -0.242346 -0.017262  1.181074\n",
       "2024-06-02 -0.732861 -1.018559  0.319088 -1.068321"
      ]
     },
     "execution_count": 5,
     "metadata": {},
     "output_type": "execute_result"
    }
   ],
   "source": [
    "df = pd.DataFrame(np.random.randn(6, 4), index=dates)\n",
    "df"
   ]
  },
  {
   "cell_type": "code",
   "execution_count": 6,
   "id": "b56f9182-8d22-4df4-833a-d7b5f13bfd47",
   "metadata": {},
   "outputs": [
    {
     "data": {
      "text/html": [
       "<div>\n",
       "<style scoped>\n",
       "    .dataframe tbody tr th:only-of-type {\n",
       "        vertical-align: middle;\n",
       "    }\n",
       "\n",
       "    .dataframe tbody tr th {\n",
       "        vertical-align: top;\n",
       "    }\n",
       "\n",
       "    .dataframe thead th {\n",
       "        text-align: right;\n",
       "    }\n",
       "</style>\n",
       "<table border=\"1\" class=\"dataframe\">\n",
       "  <thead>\n",
       "    <tr style=\"text-align: right;\">\n",
       "      <th></th>\n",
       "      <th>a</th>\n",
       "      <th>b</th>\n",
       "      <th>c</th>\n",
       "      <th>d</th>\n",
       "    </tr>\n",
       "  </thead>\n",
       "  <tbody>\n",
       "    <tr>\n",
       "      <th>2024-05-28</th>\n",
       "      <td>-1.191217</td>\n",
       "      <td>-0.136098</td>\n",
       "      <td>-0.943781</td>\n",
       "      <td>0.655519</td>\n",
       "    </tr>\n",
       "    <tr>\n",
       "      <th>2024-05-29</th>\n",
       "      <td>1.179479</td>\n",
       "      <td>-1.869713</td>\n",
       "      <td>-0.803225</td>\n",
       "      <td>1.177356</td>\n",
       "    </tr>\n",
       "    <tr>\n",
       "      <th>2024-05-30</th>\n",
       "      <td>-0.530942</td>\n",
       "      <td>0.052518</td>\n",
       "      <td>-1.239265</td>\n",
       "      <td>3.269332</td>\n",
       "    </tr>\n",
       "    <tr>\n",
       "      <th>2024-05-31</th>\n",
       "      <td>0.977613</td>\n",
       "      <td>0.357779</td>\n",
       "      <td>-0.202249</td>\n",
       "      <td>-1.192554</td>\n",
       "    </tr>\n",
       "    <tr>\n",
       "      <th>2024-06-01</th>\n",
       "      <td>0.211274</td>\n",
       "      <td>-0.830622</td>\n",
       "      <td>0.580655</td>\n",
       "      <td>0.451064</td>\n",
       "    </tr>\n",
       "    <tr>\n",
       "      <th>2024-06-02</th>\n",
       "      <td>1.267312</td>\n",
       "      <td>-0.368418</td>\n",
       "      <td>-1.517736</td>\n",
       "      <td>-1.361094</td>\n",
       "    </tr>\n",
       "  </tbody>\n",
       "</table>\n",
       "</div>"
      ],
      "text/plain": [
       "                   a         b         c         d\n",
       "2024-05-28 -1.191217 -0.136098 -0.943781  0.655519\n",
       "2024-05-29  1.179479 -1.869713 -0.803225  1.177356\n",
       "2024-05-30 -0.530942  0.052518 -1.239265  3.269332\n",
       "2024-05-31  0.977613  0.357779 -0.202249 -1.192554\n",
       "2024-06-01  0.211274 -0.830622  0.580655  0.451064\n",
       "2024-06-02  1.267312 -0.368418 -1.517736 -1.361094"
      ]
     },
     "execution_count": 6,
     "metadata": {},
     "output_type": "execute_result"
    }
   ],
   "source": [
    "df = pd.DataFrame(np.random.randn(6, 4), index=dates, columns=['a', 'b', 'c', 'd'])\n",
    "df"
   ]
  },
  {
   "cell_type": "code",
   "execution_count": 7,
   "id": "35ff31d1-ecd6-4b07-83fa-9e98838bb46b",
   "metadata": {},
   "outputs": [
    {
     "data": {
      "text/plain": [
       "a    float64\n",
       "b    float64\n",
       "c    float64\n",
       "d    float64\n",
       "dtype: object"
      ]
     },
     "execution_count": 7,
     "metadata": {},
     "output_type": "execute_result"
    }
   ],
   "source": [
    "df.dtypes"
   ]
  },
  {
   "cell_type": "code",
   "execution_count": 8,
   "id": "1620a077-78bf-45c6-ad73-570dece6fc5f",
   "metadata": {},
   "outputs": [
    {
     "data": {
      "text/plain": [
       "2024-05-28   -1.191217\n",
       "2024-05-29    1.179479\n",
       "2024-05-30   -0.530942\n",
       "2024-05-31    0.977613\n",
       "2024-06-01    0.211274\n",
       "2024-06-02    1.267312\n",
       "Freq: D, Name: a, dtype: float64"
      ]
     },
     "execution_count": 8,
     "metadata": {},
     "output_type": "execute_result"
    }
   ],
   "source": [
    "df['a']"
   ]
  },
  {
   "cell_type": "code",
   "execution_count": 9,
   "id": "43abbeb8-a4cc-45bc-b06c-aa60d3745cc0",
   "metadata": {},
   "outputs": [
    {
     "data": {
      "text/html": [
       "<div>\n",
       "<style scoped>\n",
       "    .dataframe tbody tr th:only-of-type {\n",
       "        vertical-align: middle;\n",
       "    }\n",
       "\n",
       "    .dataframe tbody tr th {\n",
       "        vertical-align: top;\n",
       "    }\n",
       "\n",
       "    .dataframe thead th {\n",
       "        text-align: right;\n",
       "    }\n",
       "</style>\n",
       "<table border=\"1\" class=\"dataframe\">\n",
       "  <thead>\n",
       "    <tr style=\"text-align: right;\">\n",
       "      <th></th>\n",
       "      <th>a</th>\n",
       "      <th>b</th>\n",
       "      <th>c</th>\n",
       "      <th>d</th>\n",
       "    </tr>\n",
       "  </thead>\n",
       "  <tbody>\n",
       "    <tr>\n",
       "      <th>2024-05-28</th>\n",
       "      <td>-1.191217</td>\n",
       "      <td>-0.136098</td>\n",
       "      <td>-0.943781</td>\n",
       "      <td>0.655519</td>\n",
       "    </tr>\n",
       "    <tr>\n",
       "      <th>2024-05-29</th>\n",
       "      <td>1.179479</td>\n",
       "      <td>-1.869713</td>\n",
       "      <td>-0.803225</td>\n",
       "      <td>1.177356</td>\n",
       "    </tr>\n",
       "    <tr>\n",
       "      <th>2024-05-30</th>\n",
       "      <td>-0.530942</td>\n",
       "      <td>0.052518</td>\n",
       "      <td>-1.239265</td>\n",
       "      <td>3.269332</td>\n",
       "    </tr>\n",
       "    <tr>\n",
       "      <th>2024-05-31</th>\n",
       "      <td>0.977613</td>\n",
       "      <td>0.357779</td>\n",
       "      <td>-0.202249</td>\n",
       "      <td>-1.192554</td>\n",
       "    </tr>\n",
       "    <tr>\n",
       "      <th>2024-06-01</th>\n",
       "      <td>0.211274</td>\n",
       "      <td>-0.830622</td>\n",
       "      <td>0.580655</td>\n",
       "      <td>0.451064</td>\n",
       "    </tr>\n",
       "  </tbody>\n",
       "</table>\n",
       "</div>"
      ],
      "text/plain": [
       "                   a         b         c         d\n",
       "2024-05-28 -1.191217 -0.136098 -0.943781  0.655519\n",
       "2024-05-29  1.179479 -1.869713 -0.803225  1.177356\n",
       "2024-05-30 -0.530942  0.052518 -1.239265  3.269332\n",
       "2024-05-31  0.977613  0.357779 -0.202249 -1.192554\n",
       "2024-06-01  0.211274 -0.830622  0.580655  0.451064"
      ]
     },
     "execution_count": 9,
     "metadata": {},
     "output_type": "execute_result"
    }
   ],
   "source": [
    "df.head()"
   ]
  },
  {
   "cell_type": "code",
   "execution_count": 10,
   "id": "4ef2435f-33f2-4123-b67e-7a4f5c872c2b",
   "metadata": {},
   "outputs": [
    {
     "data": {
      "text/html": [
       "<div>\n",
       "<style scoped>\n",
       "    .dataframe tbody tr th:only-of-type {\n",
       "        vertical-align: middle;\n",
       "    }\n",
       "\n",
       "    .dataframe tbody tr th {\n",
       "        vertical-align: top;\n",
       "    }\n",
       "\n",
       "    .dataframe thead th {\n",
       "        text-align: right;\n",
       "    }\n",
       "</style>\n",
       "<table border=\"1\" class=\"dataframe\">\n",
       "  <thead>\n",
       "    <tr style=\"text-align: right;\">\n",
       "      <th></th>\n",
       "      <th>a</th>\n",
       "      <th>b</th>\n",
       "      <th>c</th>\n",
       "      <th>d</th>\n",
       "    </tr>\n",
       "  </thead>\n",
       "  <tbody>\n",
       "    <tr>\n",
       "      <th>2024-05-28</th>\n",
       "      <td>-1.191217</td>\n",
       "      <td>-0.136098</td>\n",
       "      <td>-0.943781</td>\n",
       "      <td>0.655519</td>\n",
       "    </tr>\n",
       "    <tr>\n",
       "      <th>2024-05-29</th>\n",
       "      <td>1.179479</td>\n",
       "      <td>-1.869713</td>\n",
       "      <td>-0.803225</td>\n",
       "      <td>1.177356</td>\n",
       "    </tr>\n",
       "  </tbody>\n",
       "</table>\n",
       "</div>"
      ],
      "text/plain": [
       "                   a         b         c         d\n",
       "2024-05-28 -1.191217 -0.136098 -0.943781  0.655519\n",
       "2024-05-29  1.179479 -1.869713 -0.803225  1.177356"
      ]
     },
     "execution_count": 10,
     "metadata": {},
     "output_type": "execute_result"
    }
   ],
   "source": [
    "df.head(2)"
   ]
  },
  {
   "cell_type": "code",
   "execution_count": 11,
   "id": "5d71fd15-381e-48bd-8f85-96fb9ab66536",
   "metadata": {},
   "outputs": [
    {
     "data": {
      "text/html": [
       "<div>\n",
       "<style scoped>\n",
       "    .dataframe tbody tr th:only-of-type {\n",
       "        vertical-align: middle;\n",
       "    }\n",
       "\n",
       "    .dataframe tbody tr th {\n",
       "        vertical-align: top;\n",
       "    }\n",
       "\n",
       "    .dataframe thead th {\n",
       "        text-align: right;\n",
       "    }\n",
       "</style>\n",
       "<table border=\"1\" class=\"dataframe\">\n",
       "  <thead>\n",
       "    <tr style=\"text-align: right;\">\n",
       "      <th></th>\n",
       "      <th>a</th>\n",
       "      <th>b</th>\n",
       "      <th>c</th>\n",
       "      <th>d</th>\n",
       "    </tr>\n",
       "  </thead>\n",
       "  <tbody>\n",
       "    <tr>\n",
       "      <th>2024-06-01</th>\n",
       "      <td>0.211274</td>\n",
       "      <td>-0.830622</td>\n",
       "      <td>0.580655</td>\n",
       "      <td>0.451064</td>\n",
       "    </tr>\n",
       "    <tr>\n",
       "      <th>2024-06-02</th>\n",
       "      <td>1.267312</td>\n",
       "      <td>-0.368418</td>\n",
       "      <td>-1.517736</td>\n",
       "      <td>-1.361094</td>\n",
       "    </tr>\n",
       "  </tbody>\n",
       "</table>\n",
       "</div>"
      ],
      "text/plain": [
       "                   a         b         c         d\n",
       "2024-06-01  0.211274 -0.830622  0.580655  0.451064\n",
       "2024-06-02  1.267312 -0.368418 -1.517736 -1.361094"
      ]
     },
     "execution_count": 11,
     "metadata": {},
     "output_type": "execute_result"
    }
   ],
   "source": [
    "df.tail(2)"
   ]
  },
  {
   "cell_type": "code",
   "execution_count": 12,
   "id": "2c2c901a-a666-4358-b6fb-3db02ea037fe",
   "metadata": {},
   "outputs": [
    {
     "data": {
      "text/html": [
       "<div>\n",
       "<style scoped>\n",
       "    .dataframe tbody tr th:only-of-type {\n",
       "        vertical-align: middle;\n",
       "    }\n",
       "\n",
       "    .dataframe tbody tr th {\n",
       "        vertical-align: top;\n",
       "    }\n",
       "\n",
       "    .dataframe thead th {\n",
       "        text-align: right;\n",
       "    }\n",
       "</style>\n",
       "<table border=\"1\" class=\"dataframe\">\n",
       "  <thead>\n",
       "    <tr style=\"text-align: right;\">\n",
       "      <th></th>\n",
       "      <th>a</th>\n",
       "      <th>b</th>\n",
       "      <th>c</th>\n",
       "      <th>d</th>\n",
       "    </tr>\n",
       "  </thead>\n",
       "  <tbody>\n",
       "    <tr>\n",
       "      <th>count</th>\n",
       "      <td>6.000000</td>\n",
       "      <td>6.000000</td>\n",
       "      <td>6.000000</td>\n",
       "      <td>6.000000</td>\n",
       "    </tr>\n",
       "    <tr>\n",
       "      <th>mean</th>\n",
       "      <td>0.318920</td>\n",
       "      <td>-0.465759</td>\n",
       "      <td>-0.687600</td>\n",
       "      <td>0.499937</td>\n",
       "    </tr>\n",
       "    <tr>\n",
       "      <th>std</th>\n",
       "      <td>1.008787</td>\n",
       "      <td>0.796139</td>\n",
       "      <td>0.763740</td>\n",
       "      <td>1.701940</td>\n",
       "    </tr>\n",
       "    <tr>\n",
       "      <th>min</th>\n",
       "      <td>-1.191217</td>\n",
       "      <td>-1.869713</td>\n",
       "      <td>-1.517736</td>\n",
       "      <td>-1.361094</td>\n",
       "    </tr>\n",
       "    <tr>\n",
       "      <th>25%</th>\n",
       "      <td>-0.345388</td>\n",
       "      <td>-0.715071</td>\n",
       "      <td>-1.165394</td>\n",
       "      <td>-0.781650</td>\n",
       "    </tr>\n",
       "    <tr>\n",
       "      <th>50%</th>\n",
       "      <td>0.594444</td>\n",
       "      <td>-0.252258</td>\n",
       "      <td>-0.873503</td>\n",
       "      <td>0.553291</td>\n",
       "    </tr>\n",
       "    <tr>\n",
       "      <th>75%</th>\n",
       "      <td>1.129013</td>\n",
       "      <td>0.005364</td>\n",
       "      <td>-0.352493</td>\n",
       "      <td>1.046897</td>\n",
       "    </tr>\n",
       "    <tr>\n",
       "      <th>max</th>\n",
       "      <td>1.267312</td>\n",
       "      <td>0.357779</td>\n",
       "      <td>0.580655</td>\n",
       "      <td>3.269332</td>\n",
       "    </tr>\n",
       "  </tbody>\n",
       "</table>\n",
       "</div>"
      ],
      "text/plain": [
       "              a         b         c         d\n",
       "count  6.000000  6.000000  6.000000  6.000000\n",
       "mean   0.318920 -0.465759 -0.687600  0.499937\n",
       "std    1.008787  0.796139  0.763740  1.701940\n",
       "min   -1.191217 -1.869713 -1.517736 -1.361094\n",
       "25%   -0.345388 -0.715071 -1.165394 -0.781650\n",
       "50%    0.594444 -0.252258 -0.873503  0.553291\n",
       "75%    1.129013  0.005364 -0.352493  1.046897\n",
       "max    1.267312  0.357779  0.580655  3.269332"
      ]
     },
     "execution_count": 12,
     "metadata": {},
     "output_type": "execute_result"
    }
   ],
   "source": [
    "df.describe()"
   ]
  },
  {
   "cell_type": "code",
   "execution_count": 13,
   "id": "d27a9754-fcba-4aaf-8208-f11fcf6360f9",
   "metadata": {},
   "outputs": [
    {
     "data": {
      "text/plain": [
       "a    0.318920\n",
       "b   -0.465759\n",
       "c   -0.687600\n",
       "d    0.499937\n",
       "dtype: float64"
      ]
     },
     "execution_count": 13,
     "metadata": {},
     "output_type": "execute_result"
    }
   ],
   "source": [
    "df.mean()"
   ]
  },
  {
   "cell_type": "code",
   "execution_count": 14,
   "id": "ac7e8414-ef9d-4aa7-ab06-e9aa97b9b1a8",
   "metadata": {},
   "outputs": [
    {
     "data": {
      "text/plain": [
       "0.31891993225689774"
      ]
     },
     "execution_count": 14,
     "metadata": {},
     "output_type": "execute_result"
    }
   ],
   "source": [
    "df['a'].mean()"
   ]
  },
  {
   "cell_type": "code",
   "execution_count": 15,
   "id": "c6fb30ac-78da-451a-83f1-30b421df6b76",
   "metadata": {},
   "outputs": [
    {
     "data": {
      "text/html": [
       "<div>\n",
       "<style scoped>\n",
       "    .dataframe tbody tr th:only-of-type {\n",
       "        vertical-align: middle;\n",
       "    }\n",
       "\n",
       "    .dataframe tbody tr th {\n",
       "        vertical-align: top;\n",
       "    }\n",
       "\n",
       "    .dataframe thead th {\n",
       "        text-align: right;\n",
       "    }\n",
       "</style>\n",
       "<table border=\"1\" class=\"dataframe\">\n",
       "  <thead>\n",
       "    <tr style=\"text-align: right;\">\n",
       "      <th></th>\n",
       "      <th>a</th>\n",
       "      <th>b</th>\n",
       "      <th>c</th>\n",
       "      <th>d</th>\n",
       "    </tr>\n",
       "  </thead>\n",
       "  <tbody>\n",
       "    <tr>\n",
       "      <th>2024-05-28</th>\n",
       "      <td>-1.191217</td>\n",
       "      <td>-0.136098</td>\n",
       "      <td>-0.943781</td>\n",
       "      <td>0.655519</td>\n",
       "    </tr>\n",
       "    <tr>\n",
       "      <th>2024-05-29</th>\n",
       "      <td>1.179479</td>\n",
       "      <td>-1.869713</td>\n",
       "      <td>-0.803225</td>\n",
       "      <td>1.177356</td>\n",
       "    </tr>\n",
       "  </tbody>\n",
       "</table>\n",
       "</div>"
      ],
      "text/plain": [
       "                   a         b         c         d\n",
       "2024-05-28 -1.191217 -0.136098 -0.943781  0.655519\n",
       "2024-05-29  1.179479 -1.869713 -0.803225  1.177356"
      ]
     },
     "execution_count": 15,
     "metadata": {},
     "output_type": "execute_result"
    }
   ],
   "source": [
    "df[0:2]"
   ]
  },
  {
   "cell_type": "code",
   "execution_count": 16,
   "id": "cc2bdb39-7f69-4e77-b47a-89c6e0485dc4",
   "metadata": {},
   "outputs": [
    {
     "data": {
      "text/plain": [
       "a   -0.005869\n",
       "b   -1.002906\n",
       "c   -0.873503\n",
       "d    0.916437\n",
       "dtype: float64"
      ]
     },
     "execution_count": 16,
     "metadata": {},
     "output_type": "execute_result"
    }
   ],
   "source": [
    "df[0:2].mean()"
   ]
  },
  {
   "cell_type": "code",
   "execution_count": 17,
   "id": "e383f6b1-1226-4c8b-8234-497564164231",
   "metadata": {},
   "outputs": [
    {
     "data": {
      "text/html": [
       "<div>\n",
       "<style scoped>\n",
       "    .dataframe tbody tr th:only-of-type {\n",
       "        vertical-align: middle;\n",
       "    }\n",
       "\n",
       "    .dataframe tbody tr th {\n",
       "        vertical-align: top;\n",
       "    }\n",
       "\n",
       "    .dataframe thead th {\n",
       "        text-align: right;\n",
       "    }\n",
       "</style>\n",
       "<table border=\"1\" class=\"dataframe\">\n",
       "  <thead>\n",
       "    <tr style=\"text-align: right;\">\n",
       "      <th></th>\n",
       "      <th>2024-05-28</th>\n",
       "      <th>2024-05-29</th>\n",
       "      <th>2024-05-30</th>\n",
       "      <th>2024-05-31</th>\n",
       "      <th>2024-06-01</th>\n",
       "      <th>2024-06-02</th>\n",
       "    </tr>\n",
       "  </thead>\n",
       "  <tbody>\n",
       "    <tr>\n",
       "      <th>a</th>\n",
       "      <td>-1.191217</td>\n",
       "      <td>1.179479</td>\n",
       "      <td>-0.530942</td>\n",
       "      <td>0.977613</td>\n",
       "      <td>0.211274</td>\n",
       "      <td>1.267312</td>\n",
       "    </tr>\n",
       "    <tr>\n",
       "      <th>b</th>\n",
       "      <td>-0.136098</td>\n",
       "      <td>-1.869713</td>\n",
       "      <td>0.052518</td>\n",
       "      <td>0.357779</td>\n",
       "      <td>-0.830622</td>\n",
       "      <td>-0.368418</td>\n",
       "    </tr>\n",
       "    <tr>\n",
       "      <th>c</th>\n",
       "      <td>-0.943781</td>\n",
       "      <td>-0.803225</td>\n",
       "      <td>-1.239265</td>\n",
       "      <td>-0.202249</td>\n",
       "      <td>0.580655</td>\n",
       "      <td>-1.517736</td>\n",
       "    </tr>\n",
       "    <tr>\n",
       "      <th>d</th>\n",
       "      <td>0.655519</td>\n",
       "      <td>1.177356</td>\n",
       "      <td>3.269332</td>\n",
       "      <td>-1.192554</td>\n",
       "      <td>0.451064</td>\n",
       "      <td>-1.361094</td>\n",
       "    </tr>\n",
       "  </tbody>\n",
       "</table>\n",
       "</div>"
      ],
      "text/plain": [
       "   2024-05-28  2024-05-29  2024-05-30  2024-05-31  2024-06-01  2024-06-02\n",
       "a   -1.191217    1.179479   -0.530942    0.977613    0.211274    1.267312\n",
       "b   -0.136098   -1.869713    0.052518    0.357779   -0.830622   -0.368418\n",
       "c   -0.943781   -0.803225   -1.239265   -0.202249    0.580655   -1.517736\n",
       "d    0.655519    1.177356    3.269332   -1.192554    0.451064   -1.361094"
      ]
     },
     "execution_count": 17,
     "metadata": {},
     "output_type": "execute_result"
    }
   ],
   "source": [
    "df.T"
   ]
  },
  {
   "cell_type": "code",
   "execution_count": 18,
   "id": "3a86b340-f75a-4b4a-bad6-7c3e49d1e995",
   "metadata": {},
   "outputs": [
    {
     "data": {
      "text/html": [
       "<div>\n",
       "<style scoped>\n",
       "    .dataframe tbody tr th:only-of-type {\n",
       "        vertical-align: middle;\n",
       "    }\n",
       "\n",
       "    .dataframe tbody tr th {\n",
       "        vertical-align: top;\n",
       "    }\n",
       "\n",
       "    .dataframe thead th {\n",
       "        text-align: right;\n",
       "    }\n",
       "</style>\n",
       "<table border=\"1\" class=\"dataframe\">\n",
       "  <thead>\n",
       "    <tr style=\"text-align: right;\">\n",
       "      <th></th>\n",
       "      <th>a</th>\n",
       "      <th>b</th>\n",
       "      <th>c</th>\n",
       "      <th>d</th>\n",
       "    </tr>\n",
       "  </thead>\n",
       "  <tbody>\n",
       "    <tr>\n",
       "      <th>2024-05-29</th>\n",
       "      <td>1.179479</td>\n",
       "      <td>-1.869713</td>\n",
       "      <td>-0.803225</td>\n",
       "      <td>1.177356</td>\n",
       "    </tr>\n",
       "    <tr>\n",
       "      <th>2024-06-01</th>\n",
       "      <td>0.211274</td>\n",
       "      <td>-0.830622</td>\n",
       "      <td>0.580655</td>\n",
       "      <td>0.451064</td>\n",
       "    </tr>\n",
       "    <tr>\n",
       "      <th>2024-06-02</th>\n",
       "      <td>1.267312</td>\n",
       "      <td>-0.368418</td>\n",
       "      <td>-1.517736</td>\n",
       "      <td>-1.361094</td>\n",
       "    </tr>\n",
       "    <tr>\n",
       "      <th>2024-05-28</th>\n",
       "      <td>-1.191217</td>\n",
       "      <td>-0.136098</td>\n",
       "      <td>-0.943781</td>\n",
       "      <td>0.655519</td>\n",
       "    </tr>\n",
       "    <tr>\n",
       "      <th>2024-05-30</th>\n",
       "      <td>-0.530942</td>\n",
       "      <td>0.052518</td>\n",
       "      <td>-1.239265</td>\n",
       "      <td>3.269332</td>\n",
       "    </tr>\n",
       "    <tr>\n",
       "      <th>2024-05-31</th>\n",
       "      <td>0.977613</td>\n",
       "      <td>0.357779</td>\n",
       "      <td>-0.202249</td>\n",
       "      <td>-1.192554</td>\n",
       "    </tr>\n",
       "  </tbody>\n",
       "</table>\n",
       "</div>"
      ],
      "text/plain": [
       "                   a         b         c         d\n",
       "2024-05-29  1.179479 -1.869713 -0.803225  1.177356\n",
       "2024-06-01  0.211274 -0.830622  0.580655  0.451064\n",
       "2024-06-02  1.267312 -0.368418 -1.517736 -1.361094\n",
       "2024-05-28 -1.191217 -0.136098 -0.943781  0.655519\n",
       "2024-05-30 -0.530942  0.052518 -1.239265  3.269332\n",
       "2024-05-31  0.977613  0.357779 -0.202249 -1.192554"
      ]
     },
     "execution_count": 18,
     "metadata": {},
     "output_type": "execute_result"
    }
   ],
   "source": [
    "df.sort_values('b')"
   ]
  },
  {
   "cell_type": "code",
   "execution_count": 19,
   "id": "554d51fe-30e7-41ea-99dd-d89148cb4ac7",
   "metadata": {},
   "outputs": [
    {
     "data": {
      "text/html": [
       "<div>\n",
       "<style scoped>\n",
       "    .dataframe tbody tr th:only-of-type {\n",
       "        vertical-align: middle;\n",
       "    }\n",
       "\n",
       "    .dataframe tbody tr th {\n",
       "        vertical-align: top;\n",
       "    }\n",
       "\n",
       "    .dataframe thead th {\n",
       "        text-align: right;\n",
       "    }\n",
       "</style>\n",
       "<table border=\"1\" class=\"dataframe\">\n",
       "  <thead>\n",
       "    <tr style=\"text-align: right;\">\n",
       "      <th></th>\n",
       "      <th>a</th>\n",
       "      <th>b</th>\n",
       "      <th>c</th>\n",
       "      <th>d</th>\n",
       "    </tr>\n",
       "  </thead>\n",
       "  <tbody>\n",
       "    <tr>\n",
       "      <th>2024-05-29</th>\n",
       "      <td>1.179479</td>\n",
       "      <td>-1.869713</td>\n",
       "      <td>-0.803225</td>\n",
       "      <td>1.177356</td>\n",
       "    </tr>\n",
       "    <tr>\n",
       "      <th>2024-06-01</th>\n",
       "      <td>0.211274</td>\n",
       "      <td>-0.830622</td>\n",
       "      <td>0.580655</td>\n",
       "      <td>0.451064</td>\n",
       "    </tr>\n",
       "    <tr>\n",
       "      <th>2024-06-02</th>\n",
       "      <td>1.267312</td>\n",
       "      <td>-0.368418</td>\n",
       "      <td>-1.517736</td>\n",
       "      <td>-1.361094</td>\n",
       "    </tr>\n",
       "    <tr>\n",
       "      <th>2024-05-28</th>\n",
       "      <td>-1.191217</td>\n",
       "      <td>-0.136098</td>\n",
       "      <td>-0.943781</td>\n",
       "      <td>0.655519</td>\n",
       "    </tr>\n",
       "    <tr>\n",
       "      <th>2024-05-30</th>\n",
       "      <td>-0.530942</td>\n",
       "      <td>0.052518</td>\n",
       "      <td>-1.239265</td>\n",
       "      <td>3.269332</td>\n",
       "    </tr>\n",
       "    <tr>\n",
       "      <th>2024-05-31</th>\n",
       "      <td>0.977613</td>\n",
       "      <td>0.357779</td>\n",
       "      <td>-0.202249</td>\n",
       "      <td>-1.192554</td>\n",
       "    </tr>\n",
       "  </tbody>\n",
       "</table>\n",
       "</div>"
      ],
      "text/plain": [
       "                   a         b         c         d\n",
       "2024-05-29  1.179479 -1.869713 -0.803225  1.177356\n",
       "2024-06-01  0.211274 -0.830622  0.580655  0.451064\n",
       "2024-06-02  1.267312 -0.368418 -1.517736 -1.361094\n",
       "2024-05-28 -1.191217 -0.136098 -0.943781  0.655519\n",
       "2024-05-30 -0.530942  0.052518 -1.239265  3.269332\n",
       "2024-05-31  0.977613  0.357779 -0.202249 -1.192554"
      ]
     },
     "execution_count": 19,
     "metadata": {},
     "output_type": "execute_result"
    }
   ],
   "source": [
    "df.sort_values(by='b')"
   ]
  },
  {
   "cell_type": "code",
   "execution_count": 20,
   "id": "3eb96a66-0055-434f-8dd1-abfaaced3d22",
   "metadata": {},
   "outputs": [
    {
     "data": {
      "text/html": [
       "<div>\n",
       "<style scoped>\n",
       "    .dataframe tbody tr th:only-of-type {\n",
       "        vertical-align: middle;\n",
       "    }\n",
       "\n",
       "    .dataframe tbody tr th {\n",
       "        vertical-align: top;\n",
       "    }\n",
       "\n",
       "    .dataframe thead th {\n",
       "        text-align: right;\n",
       "    }\n",
       "</style>\n",
       "<table border=\"1\" class=\"dataframe\">\n",
       "  <thead>\n",
       "    <tr style=\"text-align: right;\">\n",
       "      <th></th>\n",
       "      <th>a</th>\n",
       "      <th>b</th>\n",
       "      <th>c</th>\n",
       "      <th>d</th>\n",
       "    </tr>\n",
       "  </thead>\n",
       "  <tbody>\n",
       "    <tr>\n",
       "      <th>2024-06-02</th>\n",
       "      <td>1.267312</td>\n",
       "      <td>-0.368418</td>\n",
       "      <td>-1.517736</td>\n",
       "      <td>-1.361094</td>\n",
       "    </tr>\n",
       "    <tr>\n",
       "      <th>2024-06-01</th>\n",
       "      <td>0.211274</td>\n",
       "      <td>-0.830622</td>\n",
       "      <td>0.580655</td>\n",
       "      <td>0.451064</td>\n",
       "    </tr>\n",
       "    <tr>\n",
       "      <th>2024-05-31</th>\n",
       "      <td>0.977613</td>\n",
       "      <td>0.357779</td>\n",
       "      <td>-0.202249</td>\n",
       "      <td>-1.192554</td>\n",
       "    </tr>\n",
       "    <tr>\n",
       "      <th>2024-05-30</th>\n",
       "      <td>-0.530942</td>\n",
       "      <td>0.052518</td>\n",
       "      <td>-1.239265</td>\n",
       "      <td>3.269332</td>\n",
       "    </tr>\n",
       "    <tr>\n",
       "      <th>2024-05-29</th>\n",
       "      <td>1.179479</td>\n",
       "      <td>-1.869713</td>\n",
       "      <td>-0.803225</td>\n",
       "      <td>1.177356</td>\n",
       "    </tr>\n",
       "    <tr>\n",
       "      <th>2024-05-28</th>\n",
       "      <td>-1.191217</td>\n",
       "      <td>-0.136098</td>\n",
       "      <td>-0.943781</td>\n",
       "      <td>0.655519</td>\n",
       "    </tr>\n",
       "  </tbody>\n",
       "</table>\n",
       "</div>"
      ],
      "text/plain": [
       "                   a         b         c         d\n",
       "2024-06-02  1.267312 -0.368418 -1.517736 -1.361094\n",
       "2024-06-01  0.211274 -0.830622  0.580655  0.451064\n",
       "2024-05-31  0.977613  0.357779 -0.202249 -1.192554\n",
       "2024-05-30 -0.530942  0.052518 -1.239265  3.269332\n",
       "2024-05-29  1.179479 -1.869713 -0.803225  1.177356\n",
       "2024-05-28 -1.191217 -0.136098 -0.943781  0.655519"
      ]
     },
     "execution_count": 20,
     "metadata": {},
     "output_type": "execute_result"
    }
   ],
   "source": [
    "df.sort_index(ascending=False)"
   ]
  },
  {
   "cell_type": "code",
   "execution_count": 21,
   "id": "9d4f7058-836d-4815-8437-530d8545323e",
   "metadata": {},
   "outputs": [
    {
     "data": {
      "text/html": [
       "<div>\n",
       "<style scoped>\n",
       "    .dataframe tbody tr th:only-of-type {\n",
       "        vertical-align: middle;\n",
       "    }\n",
       "\n",
       "    .dataframe tbody tr th {\n",
       "        vertical-align: top;\n",
       "    }\n",
       "\n",
       "    .dataframe thead th {\n",
       "        text-align: right;\n",
       "    }\n",
       "</style>\n",
       "<table border=\"1\" class=\"dataframe\">\n",
       "  <thead>\n",
       "    <tr style=\"text-align: right;\">\n",
       "      <th></th>\n",
       "      <th>a</th>\n",
       "      <th>b</th>\n",
       "      <th>c</th>\n",
       "      <th>d</th>\n",
       "    </tr>\n",
       "  </thead>\n",
       "  <tbody>\n",
       "    <tr>\n",
       "      <th>2024-05-28</th>\n",
       "      <td>-1.191217</td>\n",
       "      <td>-0.136098</td>\n",
       "      <td>-0.943781</td>\n",
       "      <td>0.655519</td>\n",
       "    </tr>\n",
       "    <tr>\n",
       "      <th>2024-05-30</th>\n",
       "      <td>-0.530942</td>\n",
       "      <td>0.052518</td>\n",
       "      <td>-1.239265</td>\n",
       "      <td>3.269332</td>\n",
       "    </tr>\n",
       "  </tbody>\n",
       "</table>\n",
       "</div>"
      ],
      "text/plain": [
       "                   a         b         c         d\n",
       "2024-05-28 -1.191217 -0.136098 -0.943781  0.655519\n",
       "2024-05-30 -0.530942  0.052518 -1.239265  3.269332"
      ]
     },
     "execution_count": 21,
     "metadata": {},
     "output_type": "execute_result"
    }
   ],
   "source": [
    "df[df['a'] < 0]"
   ]
  },
  {
   "cell_type": "markdown",
   "id": "37bca453-a257-451b-a927-f3a6714bf71e",
   "metadata": {},
   "source": [
    "## read and write operations"
   ]
  },
  {
   "cell_type": "code",
   "execution_count": 22,
   "id": "9a269333-0be6-4f29-a892-ceeac1c78bb0",
   "metadata": {},
   "outputs": [],
   "source": [
    "# df.read_csv(\"write_csv_file_name_here.csv\")"
   ]
  },
  {
   "cell_type": "code",
   "execution_count": 23,
   "id": "dc640986-a16f-401f-8b31-1246f8afa4b5",
   "metadata": {},
   "outputs": [],
   "source": [
    "df.to_csv(\"mycsv.csv\")"
   ]
  },
  {
   "cell_type": "code",
   "execution_count": 24,
   "id": "9a1706f1-c1a7-4ef7-85a6-09302e820077",
   "metadata": {},
   "outputs": [],
   "source": [
    "df.to_excel(\"mycsv.xlsx\")"
   ]
  }
 ],
 "metadata": {
  "kernelspec": {
   "display_name": "Python 3 (ipykernel)",
   "language": "python",
   "name": "python3"
  },
  "language_info": {
   "codemirror_mode": {
    "name": "ipython",
    "version": 3
   },
   "file_extension": ".py",
   "mimetype": "text/x-python",
   "name": "python",
   "nbconvert_exporter": "python",
   "pygments_lexer": "ipython3",
   "version": "3.12.1"
  }
 },
 "nbformat": 4,
 "nbformat_minor": 5
}
